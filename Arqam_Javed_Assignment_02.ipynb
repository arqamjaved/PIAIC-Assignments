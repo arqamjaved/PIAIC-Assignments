{
 "cells": [
  {
   "cell_type": "markdown",
   "metadata": {},
   "source": [
    "# The ABC company has hired you as an intern on the coding team that creates e-commerce applications.  \n",
    "You must write a script that asks the user for a value. The value must be used as a whole number in a calculation, even if the user enters a decimal value. \n",
    "\n",
    "You need to write the code to meet the requirements."
   ]
  },
  {
   "cell_type": "code",
   "execution_count": 1,
   "metadata": {},
   "outputs": [
    {
     "name": "stdout",
     "output_type": "stream",
     "text": [
      "Enter the value: 1.2\n"
     ]
    }
   ],
   "source": [
    "val=float(input (\"Enter the value: \"))"
   ]
  },
  {
   "cell_type": "code",
   "execution_count": 2,
   "metadata": {},
   "outputs": [
    {
     "name": "stdout",
     "output_type": "stream",
     "text": [
      "Value: 1\n"
     ]
    }
   ],
   "source": [
    "print (\"Value:\",int(val))"
   ]
  },
  {
   "cell_type": "markdown",
   "metadata": {},
   "source": [
    "# You are creating a Python program that shows a congratulation message to employees on their service anniversary.\n",
    "You need to calculate the number of years of service and print a congratulatory message."
   ]
  },
  {
   "cell_type": "code",
   "execution_count": 15,
   "metadata": {},
   "outputs": [
    {
     "name": "stdout",
     "output_type": "stream",
     "text": [
      "In which year did you joined the company?2010\n",
      "What is the current year?2012\n"
     ]
    }
   ],
   "source": [
    "year01=int(input(\"In which year did you joined the company?\"))\n",
    "year02=int(input(\"What is the current year?\"))"
   ]
  },
  {
   "cell_type": "code",
   "execution_count": 16,
   "metadata": {},
   "outputs": [],
   "source": [
    "service=year02-year01"
   ]
  },
  {
   "cell_type": "code",
   "execution_count": 17,
   "metadata": {},
   "outputs": [
    {
     "name": "stdout",
     "output_type": "stream",
     "text": [
      "Congratuations on your 2 year service anniversary!\n"
     ]
    }
   ],
   "source": [
    "print(\"Congratuations on your\",service,\"year service anniversary!\")"
   ]
  },
  {
   "cell_type": "markdown",
   "metadata": {},
   "source": [
    "# Write a Python program to convert temperatures  from fahrenheit to celsius, \n",
    "#step 1: take \"fahrenheit Temperature\" from user in integer data type\n",
    "#step 2: apply formula that is       (  C = (5/9) * (fahrenheit_temperature - 32)  )\n",
    "#step 3: print step 2. "
   ]
  },
  {
   "cell_type": "code",
   "execution_count": 10,
   "metadata": {},
   "outputs": [
    {
     "name": "stdout",
     "output_type": "stream",
     "text": [
      "Enter tempereture in fahrenheit: 120\n"
     ]
    }
   ],
   "source": [
    "fahrenheit_temperature=int(input(\"Enter tempereture in fahrenheit: \"))\n"
   ]
  },
  {
   "cell_type": "code",
   "execution_count": 12,
   "metadata": {},
   "outputs": [],
   "source": [
    "Celcius_temperature = (5/9) * (fahrenheit_temperature - 32)  "
   ]
  },
  {
   "cell_type": "code",
   "execution_count": 13,
   "metadata": {},
   "outputs": [
    {
     "name": "stdout",
     "output_type": "stream",
     "text": [
      "48.88888888888889\n"
     ]
    }
   ],
   "source": [
    "print(Celcius_temperature)"
   ]
  },
  {
   "cell_type": "markdown",
   "metadata": {},
   "source": [
    "<h3>assign a vlue to grade by checking the following conditions:: </h3>\n",
    "<h3>if % is greater then and equal to 90 and less then 100 grade is A+ </h3>\n",
    "<h3>if % is greater then and equal to 80 and less then 90 grade is A </h3>\n",
    "<h3>if % is greater then and equal to 70 and less then 80 grade is B </h3>\n",
    "<h3>if % is greater then and equal to 60 and less then 70 grade is C </h3>\n",
    "<h3>if % is less than 60 grade is FAIL </h3>\n"
   ]
  },
  {
   "cell_type": "code",
   "execution_count": 46,
   "metadata": {},
   "outputs": [
    {
     "name": "stdout",
     "output_type": "stream",
     "text": [
      "Enter marks obtained in English: 90\n",
      "Enter marks obtained in Urdu: 98\n",
      "Enter marks obtained in Islamic Studies: 94\n",
      "Enter marks obtained in Physics: 91\n",
      "Enter marks obtained in Chemistry: 89\n",
      "Enter marks obtained in Maths: 94\n"
     ]
    }
   ],
   "source": [
    "eng=int(input(\"Enter marks obtained in English: \"))\n",
    "urd=int(input(\"Enter marks obtained in Urdu: \"))\n",
    "isl=int(input(\"Enter marks obtained in Islamic Studies: \"))\n",
    "phy=int(input(\"Enter marks obtained in Physics: \"))\n",
    "chem=int(input(\"Enter marks obtained in Chemistry: \"))\n",
    "math=int(input(\"Enter marks obtained in Maths: \"))"
   ]
  },
  {
   "cell_type": "code",
   "execution_count": 47,
   "metadata": {},
   "outputs": [
    {
     "name": "stdout",
     "output_type": "stream",
     "text": [
      "Enter total marks: 600\n"
     ]
    }
   ],
   "source": [
    "marks_obtained=eng+urd+isl+phy+chem+math\n",
    "total=int(input(\"Enter total marks: \"))"
   ]
  },
  {
   "cell_type": "code",
   "execution_count": 48,
   "metadata": {},
   "outputs": [],
   "source": [
    "percentage=int((marks_obtained/total)*100)\n"
   ]
  },
  {
   "cell_type": "code",
   "execution_count": 49,
   "metadata": {},
   "outputs": [],
   "source": [
    "if   percentage>=90 and percentage<=100 :\n",
    "        grade=\"A+\"\n",
    "    \n",
    "elif   percentage>=80 and percentage<90 :\n",
    "        grade='A'\n",
    "\n",
    "elif   percentage>=70 and percentage<80 :\n",
    "        grade='B'\n",
    "elif   percentage>=60 and percentage<70 :\n",
    "        grade='C'\n",
    "elif   percentage>=50 and percentage<60:\n",
    "        grade='D'\n",
    "        \n",
    "elif   percentage>=40   and percentage<50:\n",
    "        grade=='E'\n",
    "        \n",
    "else:\n",
    "        grade==\"F\""
   ]
  },
  {
   "cell_type": "raw",
   "metadata": {},
   "source": []
  },
  {
   "cell_type": "markdown",
   "metadata": {},
   "source": [
    "<h3>Print grade percentage and obtained marks</h3>"
   ]
  },
  {
   "cell_type": "code",
   "execution_count": 50,
   "metadata": {},
   "outputs": [
    {
     "name": "stdout",
     "output_type": "stream",
     "text": [
      "Marks Obtained:  556\n",
      "Total Marks:  600\n"
     ]
    }
   ],
   "source": [
    "print(\"Marks Obtained: \",marks_obtained)\n",
    "print(\"Total Marks: \",total)"
   ]
  },
  {
   "cell_type": "code",
   "execution_count": 51,
   "metadata": {},
   "outputs": [
    {
     "name": "stdout",
     "output_type": "stream",
     "text": [
      "92\n"
     ]
    }
   ],
   "source": [
    "print(percentage)"
   ]
  },
  {
   "cell_type": "code",
   "execution_count": 52,
   "metadata": {},
   "outputs": [
    {
     "name": "stdout",
     "output_type": "stream",
     "text": [
      "Grade: A+\n"
     ]
    }
   ],
   "source": [
    "print(\"Grade:\",grade)\n"
   ]
  },
  {
   "cell_type": "code",
   "execution_count": null,
   "metadata": {},
   "outputs": [],
   "source": []
  },
  {
   "cell_type": "code",
   "execution_count": null,
   "metadata": {},
   "outputs": [],
   "source": []
  }
 ],
 "metadata": {
  "kernelspec": {
   "display_name": "Python 3",
   "language": "python",
   "name": "python3"
  },
  "language_info": {
   "codemirror_mode": {
    "name": "ipython",
    "version": 3
   },
   "file_extension": ".py",
   "mimetype": "text/x-python",
   "name": "python",
   "nbconvert_exporter": "python",
   "pygments_lexer": "ipython3",
   "version": "3.7.3"
  }
 },
 "nbformat": 4,
 "nbformat_minor": 2
}
