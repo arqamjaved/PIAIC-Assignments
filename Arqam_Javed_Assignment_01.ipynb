{
 "cells": [
  {
   "cell_type": "markdown",
   "metadata": {},
   "source": [
    "# ASSIGNMENT "
   ]
  },
  {
   "cell_type": "markdown",
   "metadata": {},
   "source": [
    "<h3> 1 : Declare and initialize a variable name total_marks with a value 500</h3>\n"
   ]
  },
  {
   "cell_type": "code",
   "execution_count": 40,
   "metadata": {},
   "outputs": [
    {
     "name": "stdout",
     "output_type": "stream",
     "text": [
      "Total Marks:  500\n"
     ]
    }
   ],
   "source": [
    "total_marks=500\n",
    "print(\"Total Marks: \",total_marks)"
   ]
  },
  {
   "cell_type": "markdown",
   "metadata": {},
   "source": [
    "<h3> 2 : Declare and initialize 5 variables name maths , english , urdu , physics and chemisrty with different integer values</h3>"
   ]
  },
  {
   "cell_type": "code",
   "execution_count": 51,
   "metadata": {},
   "outputs": [
    {
     "name": "stdout",
     "output_type": "stream",
     "text": [
      "Subject(s)\tMarks (100)\n",
      "\n",
      "Maths\t\t 71\n",
      "\n",
      "English\t\t 84\n",
      "\n",
      "Urdu\t\t 73\n",
      "\n",
      "Physics\t\t 91\n",
      "\n",
      "Chemistry\t 95\n"
     ]
    }
   ],
   "source": [
    "maths=71 \n",
    "english=84\n",
    "urdu=73\n",
    "physics=91\n",
    "chemistry=95\n",
    "print(\"Subject(s)\\tMarks (100)\")\n",
    "print(\"\\nMaths\\t\\t\",maths)\n",
    "print(\"\\nEnglish\\t\\t\",english)\n",
    "print(\"\\nUrdu\\t\\t\",urdu)\n",
    "print(\"\\nPhysics\\t\\t\",physics)\n",
    "print(\"\\nChemistry\\t\",chemistry)\n"
   ]
  },
  {
   "cell_type": "markdown",
   "metadata": {},
   "source": [
    "<h3>3 : Calculate the obtained marks And assign the value In variable name obtained_marks</h3>"
   ]
  },
  {
   "cell_type": "code",
   "execution_count": 52,
   "metadata": {},
   "outputs": [
    {
     "name": "stdout",
     "output_type": "stream",
     "text": [
      "Total Marks: 500\n",
      "Marks Obtained:  414\n"
     ]
    }
   ],
   "source": [
    "obtained_marks=(maths+english+urdu+physics+chemistry)\n",
    "print(\"Total Marks: 500\\n\"\"Marks Obtained: \",obtained_marks)"
   ]
  },
  {
   "cell_type": "markdown",
   "metadata": {},
   "source": [
    "<h3>4 : Calculate percentage and assign the value in variable name percentage</h3>"
   ]
  },
  {
   "cell_type": "code",
   "execution_count": 54,
   "metadata": {},
   "outputs": [
    {
     "name": "stdout",
     "output_type": "stream",
     "text": [
      "Percentage:  82.8 %\n"
     ]
    }
   ],
   "source": [
    "percentage=(obtained_marks/500)*100\n",
    "print(\"Percentage: \",percentage,'%')"
   ]
  },
  {
   "cell_type": "markdown",
   "metadata": {},
   "source": [
    "<h3>5 : Declare and initialize an empty variable name grade </h3>"
   ]
  },
  {
   "cell_type": "code",
   "execution_count": 34,
   "metadata": {},
   "outputs": [],
   "source": [
    "grade=None"
   ]
  },
  {
   "cell_type": "markdown",
   "metadata": {},
   "source": [
    "### 6: print your biodata "
   ]
  },
  {
   "cell_type": "code",
   "execution_count": 38,
   "metadata": {},
   "outputs": [
    {
     "name": "stdout",
     "output_type": "stream",
     "text": [
      "Name: Arqam Javed\n",
      "Age: 22\n",
      "Gender: Male\n",
      "Qualification: Electrical Engineer\n",
      "Interests: Movies, Cricket, Football, Reading, AI\n"
     ]
    }
   ],
   "source": [
    "print(\"Name: Arqam Javed\")\n",
    "print(\"Age: 22\")\n",
    "print(\"Gender: Male\")\n",
    "print(\"Qualification: Electrical Engineer\")\n",
    "print(\"Interests: Movies, Cricket, Football, Reading, AI\")"
   ]
  },
  {
   "cell_type": "code",
   "execution_count": null,
   "metadata": {},
   "outputs": [],
   "source": []
  }
 ],
 "metadata": {
  "kernelspec": {
   "display_name": "Python 3",
   "language": "python",
   "name": "python3"
  },
  "language_info": {
   "codemirror_mode": {
    "name": "ipython",
    "version": 3
   },
   "file_extension": ".py",
   "mimetype": "text/x-python",
   "name": "python",
   "nbconvert_exporter": "python",
   "pygments_lexer": "ipython3",
   "version": "3.7.3"
  }
 },
 "nbformat": 4,
 "nbformat_minor": 2
}
